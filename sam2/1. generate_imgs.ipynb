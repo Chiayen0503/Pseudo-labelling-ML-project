{
 "cells": [
  {
   "cell_type": "markdown",
   "id": "f8aeedc6",
   "metadata": {},
   "source": [
    "# create an image folder and extract frames "
   ]
  },
  {
   "cell_type": "markdown",
   "id": "c06627d4",
   "metadata": {},
   "source": [
    "Supposed we have a ```association_football_4.mp4``` (from sport-1m dataset and can be download from [link1](https://drive.google.com/file/d/19scg1agNwHK8WgZL9Ewm7OhMn390t241/view?usp=share_link) or [link2](https://www.youtube.com/watch?v=NXOjd8rSmyM\\n), put in ```sam2/notebooks/videos/```\n",
    "we then can create ```images/association_football_4/``` for storing video frames"
   ]
  },
  {
   "cell_type": "code",
   "execution_count": 10,
   "id": "6de17709",
   "metadata": {},
   "outputs": [],
   "source": [
    "import os\n",
    "import glob\n",
    "root = 'videos/*'\n",
    "types = ('*.mp4', '*.mkv') # the tuple of file types\n",
    "project_files = glob.glob(root+'*.mp4') + glob.glob(root+'*.mkv')"
   ]
  },
  {
   "cell_type": "code",
   "execution_count": 17,
   "id": "b586b360",
   "metadata": {},
   "outputs": [],
   "source": [
    "img_root = 'images/'\n",
    "if not os.path.exists(img_root):\n",
    "    os.mkdir(img_root)"
   ]
  },
  {
   "cell_type": "code",
   "execution_count": 18,
   "id": "e7a3ea9a",
   "metadata": {},
   "outputs": [],
   "source": [
    "for p in project_files:\n",
    "    vid = p.split('/')[1]\n",
    "    vid_name = vid.split('.')[0]\n",
    "    os.mkdir(img_root+vid_name+'/')"
   ]
  },
  {
   "cell_type": "markdown",
   "id": "cd90ef13",
   "metadata": {},
   "source": [
    "In the command line, generate frame images based on each frame rate and save them to corresponding image folders:\n",
    "\n",
    "```\n",
    "for i in 4; do\n",
    "    fps=$(ffmpeg -i videos/association_football_$i.mp4 2>&1 | sed -n \"s/.*, \\(.*\\) fp.*/\\1/p\");\n",
    "    ffmpeg -i videos/association_football_$i.mp4 -filter:v fps=$fps -q:v 2 -start_number 0 images/association_football_$i/'%05d.jpg';\n",
    "    done\n",
    "```"
   ]
  },
  {
   "cell_type": "markdown",
   "id": "a591a186",
   "metadata": {},
   "source": [
    "# organise frames to different group folders, each one contains similar frames "
   ]
  },
  {
   "cell_type": "markdown",
   "id": "a8b383f1",
   "metadata": {},
   "source": [
    "Since each folder has massive amount of frames from different shots (different frame backgrounds), we have to organise frames to different groups so each group contain similar frames. This can help SAM2 in labelling step (next notebook). Alternatively, you can download organised folders from https://drive.google.com/file/d/1wGhOzX4ABe5JGcdmNlV-FGLWGTFClC7i/view?usp=sharing and place them under ```images/association_football_4/```. \n",
    "\n",
    "it would look like this\n",
    "```\n",
    ".\n",
    "└── sam2/\n",
    "    └── notebooks/\n",
    "        └── images/\n",
    "            └── association_football_4/\n",
    "                ├── vid_1\n",
    "                ├── vid_2\n",
    "                ├── ....\n",
    "                └── vid_13\n",
    "```"
   ]
  }
 ],
 "metadata": {
  "kernelspec": {
   "display_name": "sam2_labelling",
   "language": "python",
   "name": "sam2_labelling"
  },
  "language_info": {
   "codemirror_mode": {
    "name": "ipython",
    "version": 3
   },
   "file_extension": ".py",
   "mimetype": "text/x-python",
   "name": "python",
   "nbconvert_exporter": "python",
   "pygments_lexer": "ipython3",
   "version": "3.12.4"
  }
 },
 "nbformat": 4,
 "nbformat_minor": 5
}
