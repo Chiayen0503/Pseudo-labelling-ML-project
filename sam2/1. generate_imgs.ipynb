{
 "cells": [
  {
   "cell_type": "markdown",
   "id": "f8895caa",
   "metadata": {},
   "source": [
    "# create an image folder and extract frames "
   ]
  },
  {
   "cell_type": "markdown",
   "id": "58064628",
   "metadata": {},
   "source": [
    "Supposed we have a ```association_football_4.mp4``` (from sport-1m dataset and can be download from [link1](https://drive.google.com/file/d/19scg1agNwHK8WgZL9Ewm7OhMn390t241/view?usp=share_link) or [link2](https://www.youtube.com/watch?v=NXOjd8rSmyM\\n), put in ```sam2/notebooks/videos/```\n",
    "we then can create ```images/association_football_4/``` for storing video frames"
   ]
  },
  {
   "cell_type": "code",
   "execution_count": 3,
   "id": "dc2fec8d",
   "metadata": {},
   "outputs": [],
   "source": [
    "import os\n",
    "import glob\n",
    "root = 'videos/*'\n",
    "types = ('*.mp4', '*.mkv') # the tuple of file types\n",
    "project_files = glob.glob(root+'*.mp4') + glob.glob(root+'*.mkv')\n",
    "project_files.remove('videos/bedroom.mp4')"
   ]
  },
  {
   "cell_type": "code",
   "execution_count": 5,
   "id": "5438122e",
   "metadata": {},
   "outputs": [],
   "source": [
    "!rm -f -r 'images/'\n",
    "img_root = 'images/'\n",
    "os.mkdir(img_root)"
   ]
  },
  {
   "cell_type": "code",
   "execution_count": 6,
   "id": "8666dd6a",
   "metadata": {},
   "outputs": [],
   "source": [
    "for p in project_files:\n",
    "    vid = p.split('/')[1]\n",
    "    vid_name = vid.split('.')[0]\n",
    "    os.mkdir(img_root+vid_name+'/')"
   ]
  },
  {
   "cell_type": "markdown",
   "id": "bbacb45a",
   "metadata": {},
   "source": [
    "# organise frames to different group folders, each one contains similar frames\n",
    "Since each folder has massive amount of frames from different shots (different frame backgrounds), we have to organise frames to different groups so each group contain similar frames. This can help SAM2 in labelling step (next notebook). </br>\n",
    "\n",
    "There are two ways to get organised frames:\n",
    "1. generate frames and organize frames by yourself\n",
    "2. download [organised folders](https://drive.google.com/file/d/1wGhOzX4ABe5JGcdmNlV-FGLWGTFClC7i/view?usp=sharing)"
   ]
  },
  {
   "cell_type": "markdown",
   "id": "a91403ab",
   "metadata": {},
   "source": [
    "#### First way: </br>\n",
    "* In the command line, in ```sam2/notebooks/``` generate frame images based on each frame rate and save them to corresponding image folders:\n",
    "\n",
    "```\n",
    "for i in 4; do\n",
    "    fps=$(ffmpeg -i videos/association_football_$i.mp4 2>&1 | sed -n \"s/.*, \\(.*\\) fp.*/\\1/p\");\n",
    "    ffmpeg -i videos/association_football_$i.mp4 -filter:v fps=$fps -q:v 2 -start_number 0 images/association_football_$i/'%05d.jpg';\n",
    "    done\n",
    "```\n",
    "* organise frames to folders that each one have similar frames"
   ]
  },
  {
   "cell_type": "markdown",
   "id": "db61e7c0",
   "metadata": {},
   "source": [
    "#### Second way: </br>\n",
    "\n",
    "* Alternatively, you can download organised folders from https://drive.google.com/file/d/1wGhOzX4ABe5JGcdmNlV-FGLWGTFClC7i/view?usp=sharing and place them under ```images/association_football_4/test/```. "
   ]
  },
  {
   "cell_type": "markdown",
   "id": "8481b592",
   "metadata": {},
   "source": [
    "create a ```test/``` under ```association_football_4/``` it would look like this \n",
    "```\n",
    ".\n",
    "└── sam2/\n",
    "    └── notebooks/\n",
    "        └── images/\n",
    "            └── association_football_4/\n",
    "                └── test/\n",
    "                    ├── vid_1\n",
    "                    ├── vid_2\n",
    "                    ├── ....\n",
    "                    └── vid_13\n",
    "```"
   ]
  }
 ],
 "metadata": {
  "kernelspec": {
   "display_name": "sam2_labelling",
   "language": "python",
   "name": "sam2_labelling"
  },
  "language_info": {
   "codemirror_mode": {
    "name": "ipython",
    "version": 3
   },
   "file_extension": ".py",
   "mimetype": "text/x-python",
   "name": "python",
   "nbconvert_exporter": "python",
   "pygments_lexer": "ipython3",
   "version": "3.12.4"
  }
 },
 "nbformat": 4,
 "nbformat_minor": 5
}
